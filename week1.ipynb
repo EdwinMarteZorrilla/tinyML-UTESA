{
 "cells": [
  {
   "cell_type": "markdown",
   "metadata": {
    "id": "ulDUX-tcqJct"
   },
   "source": [
    "<h1><center>  Lab 1 : Introduction to Python - PART 1 </center>\n",
    "<img src=\"https://files.realpython.com/media/Newbie_Watermarked.a9319218252a.jpg\" width=\"400\">"
   ]
  },
  {
   "cell_type": "markdown",
   "metadata": {},
   "source": [
    "> `Created by: Jinnie Shin (jinnie.shin@ualberta.ca)`\\\n",
    "> `Date: 12 May 2022 `\n",
    "---"
   ]
  },
  {
   "cell_type": "markdown",
   "metadata": {
    "id": "J48Y-2CNqBkk"
   },
   "source": [
    "## 1. Basic Data Type in Python <a class=\"anchor\" id=\"data\"></a>\n",
    "\n",
    "|  Object Type |              Example              |           Shortcut         |\n",
    "|:------------|:---------------------------------|:------------------:|\n",
    "| Numbers      | 123, 3.14, 3+4j, 1000             | ```int(a)``` or ```float(a)``` |\n",
    "| String       | \"student\", \"class\", \"fun\"         | ```string(a)``` or ```\" \"```   |\n",
    "| Lists        | [1,2,3], [\"student\", \"fun\"]       | ```list(a)``` or ```[a]```     |\n",
    "| Dictionaries | {'Jane':'high', 'Matt':'average'} | ```dict(a)``` or ```{a:b}```   |\n",
    "| Tuples       | ('Jane', 'high'), (1, 2)          | ```tuple(a)``` or ```(a,b)```  |\n",
    "| Sets         | set('abc') {a, b, c}              | ```set(abc)``` or ```{a,b,c}```         |\n",
    "| Booleans     | True or False                     | ```a==b``` or``` a!=b```       |"
   ]
  },
  {
   "cell_type": "code",
   "execution_count": null,
   "metadata": {
    "colab": {
     "base_uri": "https://localhost:8080/"
    },
    "id": "pDQGRYORlqZ4",
    "outputId": "ddb9fe5b-e3da-47ec-ea20-11baeed4aa10"
   },
   "outputs": [
    {
     "name": "stdout",
     "output_type": "stream",
     "text": [
      "<class 'int'>\n",
      "<class 'float'>\n",
      "<class 'str'>\n",
      "<class 'bool'>\n",
      "<class 'bool'>\n"
     ]
    }
   ],
   "source": [
    "# integers\n",
    "print(type(10))\n",
    "# float \n",
    "print(type(1.82))\n",
    "# string\n",
    "print(type('Hello everyone'))\n",
    "# boolean\n",
    "print(type(2==1))\n",
    "print(type(False))"
   ]
  },
  {
   "cell_type": "code",
   "execution_count": null,
   "metadata": {
    "id": "ysZL0WTb0Kqo"
   },
   "outputs": [],
   "source": [
    "# before we run the code, let's guess what will happen\n",
    "\n",
    "# int(2.2) = ?\n",
    "# float(2.2) = ?\n",
    "# str(2.2) = ?\n",
    "# bool(2.2) = ?"
   ]
  },
  {
   "cell_type": "markdown",
   "metadata": {
    "id": "WR56coay1KVn"
   },
   "source": [
    "\n",
    "---\n",
    "### 1.1. List <a class=\"anchor\" id=\"list\"></a>\n",
    "\n",
    "> A ```[list]``` can be create in multiple ways by placing elements inside a square bracket ```[list]```\n",
    "\n"
   ]
  },
  {
   "cell_type": "code",
   "execution_count": null,
   "metadata": {
    "id": "aI6dSZTbrS6e"
   },
   "outputs": [],
   "source": [
    "list1 = [] # empty list\n",
    "list2 = [1,2,3,4] # integer elements \n",
    "list3 = ['hello', 'my', 'name', 'is', 'jinnie'] #string elements\n",
    "list4 = list(range(1,4)) # list using a range 1~3"
   ]
  },
  {
   "cell_type": "markdown",
   "metadata": {
    "id": "VO7Rd47Ktf0Y"
   },
   "source": [
    "> Lists can be nested within each other as a nested list ```[[nested_list],[list]]```"
   ]
  },
  {
   "cell_type": "code",
   "execution_count": null,
   "metadata": {
    "colab": {
     "base_uri": "https://localhost:8080/"
    },
    "id": "SiONb4MYtWJh",
    "outputId": "bfc6562f-abb7-4b72-bf85-99ecb7a89083"
   },
   "outputs": [
    {
     "data": {
      "text/plain": [
       "[[], [1, 2, 3, 4], ['hello', 'my', 'name', 'is', 'jinnie']]"
      ]
     },
     "execution_count": 5,
     "metadata": {
      "tags": []
     },
     "output_type": "execute_result"
    }
   ],
   "source": [
    "nested_list =[list1, list2, list3]\n",
    "nested_list"
   ]
  },
  {
   "cell_type": "markdown",
   "metadata": {
    "id": "UG2PKQbav3jV"
   },
   "source": [
    "> Dimension of the list can be identified by chekcing the length of the list ```len(list(a))```"
   ]
  },
  {
   "cell_type": "code",
   "execution_count": null,
   "metadata": {
    "colab": {
     "base_uri": "https://localhost:8080/"
    },
    "id": "MRsx4pqvuHP_",
    "outputId": "d0251f6e-8abd-4944-8a09-cd9aacc96524"
   },
   "outputs": [
    {
     "data": {
      "text/plain": [
       "3"
      ]
     },
     "execution_count": 6,
     "metadata": {
      "tags": []
     },
     "output_type": "execute_result"
    }
   ],
   "source": [
    "len(nested_list)"
   ]
  },
  {
   "cell_type": "markdown",
   "metadata": {
    "id": "dnZoj9kNqXbn"
   },
   "source": [
    "> List elements can be accessed by indexing ```list[index]```"
   ]
  },
  {
   "cell_type": "code",
   "execution_count": null,
   "metadata": {
    "colab": {
     "base_uri": "https://localhost:8080/"
    },
    "id": "nR39VPERmEd8",
    "outputId": "28d7cb88-1a2f-4e08-81ea-9a2d8cbd8170"
   },
   "outputs": [
    {
     "data": {
      "text/plain": [
       "[]"
      ]
     },
     "execution_count": 7,
     "metadata": {
      "tags": []
     },
     "output_type": "execute_result"
    }
   ],
   "source": [
    "list2[0] # element indices start from 0 \n",
    "nested_list[0]"
   ]
  },
  {
   "cell_type": "code",
   "execution_count": null,
   "metadata": {
    "colab": {
     "base_uri": "https://localhost:8080/"
    },
    "id": "Jdqy1wzJ00SS",
    "outputId": "1f34dc26-bfb6-40e3-88af-64fd5603cbd1"
   },
   "outputs": [
    {
     "data": {
      "text/plain": [
       "['hello', 'my', 'name', 'is', 'jinnie']"
      ]
     },
     "execution_count": 8,
     "metadata": {
      "tags": []
     },
     "output_type": "execute_result"
    }
   ],
   "source": [
    "list3[-1] #final element can be accessed by negative indexing \n",
    "list3[0:2] # a range could be provided to call multiple elements\n",
    "list3[:-2] # except the last two elements\n",
    "list3[4:] # starting from the 4th element\n",
    "list3[:] # all the elements "
   ]
  },
  {
   "cell_type": "markdown",
   "metadata": {
    "id": "_vTfK7TrqccV"
   },
   "source": [
    "> We can add, remove, or replace the elements using ```list.extend()```, ```list.append()```, ```list.remove()```, ```list.clear()```"
   ]
  },
  {
   "cell_type": "code",
   "execution_count": null,
   "metadata": {
    "colab": {
     "base_uri": "https://localhost:8080/"
    },
    "id": "2Q4Dfl-NnK88",
    "outputId": "a335de61-2223-4bd2-d48e-b6f5bff7867f"
   },
   "outputs": [
    {
     "name": "stdout",
     "output_type": "stream",
     "text": [
      "revised list is ['Bye', 'my', 'name', 'is', 'jinnie']\n"
     ]
    }
   ],
   "source": [
    "list3[0] = 'Bye' # change the first element of list3 to 'Bye'\n",
    "print('revised list is ' + str(list3))"
   ]
  },
  {
   "cell_type": "code",
   "execution_count": null,
   "metadata": {
    "colab": {
     "base_uri": "https://localhost:8080/"
    },
    "id": "1imoioLrnqX5",
    "outputId": "9b884df7-d2e7-49a2-e056-de84febdffa2"
   },
   "outputs": [
    {
     "name": "stdout",
     "output_type": "stream",
     "text": [
      "None\n"
     ]
    }
   ],
   "source": [
    "new_list = [5,6,7,8,9]\n",
    "complete_list1 = list2.extend(new_list) # extend the original list with a new list \n",
    "print(complete_list1)"
   ]
  },
  {
   "cell_type": "code",
   "execution_count": null,
   "metadata": {
    "colab": {
     "base_uri": "https://localhost:8080/"
    },
    "id": "8eKr9t5I0kLL",
    "outputId": "88f5ff8f-268f-42dc-9ef8-14f7111d9a30"
   },
   "outputs": [
    {
     "name": "stdout",
     "output_type": "stream",
     "text": [
      "None\n"
     ]
    }
   ],
   "source": [
    "complete_list2 = list2.append(10) # append a new element\n",
    "print(complete_list2)"
   ]
  },
  {
   "cell_type": "code",
   "execution_count": null,
   "metadata": {
    "colab": {
     "base_uri": "https://localhost:8080/"
    },
    "id": "GwE8XYrD4tuT",
    "outputId": "c0a71837-bc1c-469a-8279-8f7adf60308d"
   },
   "outputs": [
    {
     "name": "stdout",
     "output_type": "stream",
     "text": [
      "[6, 7, 8, 9]\n"
     ]
    }
   ],
   "source": [
    "new_list.remove(5) # remove an element from the list \n",
    "print(new_list)"
   ]
  },
  {
   "cell_type": "code",
   "execution_count": null,
   "metadata": {
    "colab": {
     "base_uri": "https://localhost:8080/"
    },
    "id": "LHm0FZCa08ZG",
    "outputId": "815d92f8-bab0-4d23-f2d0-588d61b58c4b"
   },
   "outputs": [
    {
     "name": "stdout",
     "output_type": "stream",
     "text": [
      "[]\n"
     ]
    }
   ],
   "source": [
    "new_list.clear() # clear the list \n",
    "print(new_list)"
   ]
  },
  {
   "cell_type": "markdown",
   "metadata": {
    "id": "-sVLmAui1u49"
   },
   "source": [
    "### 1.2. Matrix <a class=\"anchor\" id=\"matrix\"></a>\n",
    "\n",
    "> Python does not have a built-in type for matrices. Instead, we can treat list of a list as a matrix ```[[list], [list]]```"
   ]
  },
  {
   "cell_type": "code",
   "execution_count": null,
   "metadata": {},
   "outputs": [],
   "source": [
    "matrix = [[1,2,3,4],\n",
    "          [5,6,7,8]]\n",
    "matrix"
   ]
  },
  {
   "cell_type": "code",
   "execution_count": 1,
   "metadata": {},
   "outputs": [],
   "source": [
    "# pip install numpy \n",
    "# conda install numpy\n",
    "import numpy as np # import numpy functions as np "
   ]
  },
  {
   "cell_type": "markdown",
   "metadata": {},
   "source": [
    "> We will import ```numpy``` to do simple matrix calculations"
   ]
  },
  {
   "cell_type": "code",
   "execution_count": null,
   "metadata": {},
   "outputs": [],
   "source": [
    "A = np.array([[1,2,3,4], [5,6,7,8]]) #np.array to create a matrix\n",
    "print(A)\n",
    "B = np.array([[0,1],[2,3],[4,5],[7,8]])\n",
    "PRINT(B)\n",
    "A.shape # check dimensions "
   ]
  },
  {
   "cell_type": "code",
   "execution_count": null,
   "metadata": {},
   "outputs": [],
   "source": [
    "Z = np.zeros([2,3])\n",
    "R = np.random.rand(2,3)\n",
    "I = np.random.randint(2, size=(2, 3))\n",
    "R"
   ]
  },
  {
   "cell_type": "markdown",
   "metadata": {},
   "source": [
    ">   We can use ```np.maxtrix()``` to create a matrix"
   ]
  },
  {
   "cell_type": "code",
   "execution_count": 2,
   "metadata": {},
   "outputs": [
    {
     "data": {
      "text/plain": [
       "matrix([[1, 2, 3],\n",
       "        [4, 5, 6]])"
      ]
     },
     "execution_count": 2,
     "metadata": {},
     "output_type": "execute_result"
    }
   ],
   "source": [
    "aa = np.matrix('1 2 3 ; 4 5 6')\n",
    "aa"
   ]
  },
  {
   "cell_type": "markdown",
   "metadata": {},
   "source": [
    "> We can access elements just like we did with a list using ```matrix[index][index]```"
   ]
  },
  {
   "cell_type": "code",
   "execution_count": null,
   "metadata": {},
   "outputs": [],
   "source": [
    "print(D)\n",
    "print(D[0]) # first row \n",
    "print(D[0][0]) #first row, first element (0,0)"
   ]
  },
  {
   "cell_type": "markdown",
   "metadata": {},
   "source": [
    "> We can compute a matrix transpose using ```matrix.transpose()```"
   ]
  },
  {
   "cell_type": "code",
   "execution_count": null,
   "metadata": {},
   "outputs": [],
   "source": [
    "D = A.transpose()\n",
    "D"
   ]
  },
  {
   "cell_type": "markdown",
   "metadata": {},
   "source": [
    "> We can create a dot product using ```matrix.dot()```"
   ]
  },
  {
   "cell_type": "code",
   "execution_count": null,
   "metadata": {},
   "outputs": [],
   "source": [
    "C = A.dot(B)\n",
    "C"
   ]
  },
  {
   "cell_type": "markdown",
   "metadata": {},
   "source": [
    "> We can compute the Euclidean distance between the two vectors (or lists) using ```np.linalg.norm```"
   ]
  },
  {
   "cell_type": "code",
   "execution_count": null,
   "metadata": {},
   "outputs": [],
   "source": [
    "E = np.array([[-7,-3,-2,1],[1,3,6,9]])\n",
    "dist = np.linalg.norm(A-E)\n",
    "dist"
   ]
  },
  {
   "cell_type": "markdown",
   "metadata": {
    "id": "86864r492LsE"
   },
   "source": [
    "<img src=\"https://i.pinimg.com/736x/2e/aa/7d/2eaa7d5021ca7c3c98bc93b98b9646fe.jpg\" align=\"left\" width=\"70\" height=\"70\" align=\"left\">\n",
    "\n",
    "> ### Task 1 - Create multiple matrices from a list\n",
    "> - *Q1*: Create a 4 by 4 matrix from the list and call it M1 - HINT (```.reshape```)\n",
    "> - *Q2*: Get the (1) tanspose (```matrix.transpose()```) and (2) inverse of the matrix M1\n",
    "> - *Q3*: Get the dot product of (1) M1 and its transpose and (2) M1 and its inverse\n",
    "\n"
   ]
  },
  {
   "cell_type": "code",
   "execution_count": null,
   "metadata": {
    "id": "9QgZGTmr2IVy"
   },
   "outputs": [],
   "source": [
    "lst = np.random.rand(16)\n",
    "lst\n",
    "############################# Your code Here ############################################\n",
    "\n",
    "# Q1: Create a 4 by 4 matrix from the list and call it M1 - HINT (.reshape)\n",
    "M1 = np.matrix(lst)\n",
    "\n",
    "##########################################################################################"
   ]
  },
  {
   "cell_type": "code",
   "execution_count": null,
   "metadata": {
    "id": "s0csNEmw2RcZ"
   },
   "outputs": [],
   "source": [
    "############################# Your code Here ############################################\n",
    "# Q2: Get the (1) tanspose and (2) inverse of the matrix M1\n",
    "\n",
    "\n",
    "##########################################################################################"
   ]
  },
  {
   "cell_type": "code",
   "execution_count": null,
   "metadata": {
    "id": "HErtwSMe2SkY"
   },
   "outputs": [],
   "source": [
    "############################### Your code Here ###########################################\n",
    "# Q3: Get the dot product of (1) M1 and its transpose and (2) M1 and its inverse\n",
    "\n",
    "\n",
    "##########################################################################################"
   ]
  },
  {
   "cell_type": "markdown",
   "metadata": {
    "id": "IDM-F5cZ2apU"
   },
   "source": [
    "### 1.3. Dictionary <a class=\"anchor\" id=\"dict\"></a>\n",
    "> Python dictionaries ```{ }``` store keys: values to easily access values that are mapped together ```dict[key] = value```"
   ]
  },
  {
   "cell_type": "code",
   "execution_count": null,
   "metadata": {
    "id": "2SH0_rjG2aTc"
   },
   "outputs": [],
   "source": [
    "Dict = {}"
   ]
  },
  {
   "cell_type": "code",
   "execution_count": null,
   "metadata": {
    "id": "3xy7R6_q2d7q"
   },
   "outputs": [],
   "source": [
    "Dict['Connie'] = '1990-06-18' # add elements using [keys] = values \n",
    "Dict['Cora'] = '1994-07-17'\n",
    "Dict['Hunter'] = '1998-01-01'\n",
    "Dict['James'] = '1970-08-15'\n",
    "Dict['Sophie'] = '2001-02-14'"
   ]
  },
  {
   "cell_type": "markdown",
   "metadata": {
    "id": "fNR9NFW52hxa"
   },
   "source": [
    "> You can define all the keys/values when creating a dictionary as well ```{key:value}```"
   ]
  },
  {
   "cell_type": "code",
   "execution_count": null,
   "metadata": {
    "id": "HknJFXVq2f4p"
   },
   "outputs": [],
   "source": [
    "new_dict = {'Cora': '1994-07-17',\n",
    "            'Hunter': '1998-01-01',\n",
    "            'James': '1970-08-15',\n",
    "            'Sophie': '2001-02-14',\n",
    "            'Connie': '1990-06-18'}\n",
    "\n",
    "new_dict == Dict"
   ]
  },
  {
   "cell_type": "markdown",
   "metadata": {
    "id": "5-M6UftM2joH"
   },
   "source": [
    "> You can easily accessing information with the dictionary keys"
   ]
  },
  {
   "cell_type": "code",
   "execution_count": null,
   "metadata": {
    "id": "Gc1zvQ4f2jzf"
   },
   "outputs": [],
   "source": [
    "Dict['Connie']"
   ]
  },
  {
   "cell_type": "markdown",
   "metadata": {
    "id": "VSsvOzPB2l_1"
   },
   "source": [
    "> You can extract the keys and values using ``` {dict}.keys()``` and ```{dict}.values()```"
   ]
  },
  {
   "cell_type": "code",
   "execution_count": null,
   "metadata": {
    "id": "4uZWwkQg2mJh"
   },
   "outputs": [],
   "source": [
    "Dict.keys()\n",
    "Dict.values()"
   ]
  },
  {
   "cell_type": "code",
   "execution_count": null,
   "metadata": {
    "id": "UbXd2Pkk2onH"
   },
   "outputs": [],
   "source": [
    "names = list(Dict.keys())\n",
    "bdays = list(Dict.values())\n",
    "names"
   ]
  },
  {
   "cell_type": "markdown",
   "metadata": {
    "id": "86gPZuxq2neJ"
   },
   "source": [
    "<img src=\"https://i.pinimg.com/736x/2e/aa/7d/2eaa7d5021ca7c3c98bc93b98b9646fe.jpg\" align=\"left\" width=\"70\" height=\"70\" align=\"left\">\n",
    "\n",
    "\n",
    "> ### Task 2 - Create a new dictionary \n",
    "> - *Q1*: Create a new dictionary that stores birthdays as keys and names as vlalues and call it ```re_dict```\n",
    "> - *Q2*: Remove month-date from the keys and call it ```new_dict```"
   ]
  },
  {
   "cell_type": "code",
   "execution_count": null,
   "metadata": {
    "id": "xUHnWLzc2u7O"
   },
   "outputs": [],
   "source": [
    "################################ Your code Here #########################################\n",
    "# Hint zip()\n",
    "\n",
    "\n",
    "\n",
    "# expected outcome:\n",
    "#{'Connie': '1990-06-18',\n",
    "# 'Cora': '1994-07-17',\n",
    "# 'Hunter': '1998-01-01',\n",
    "# 'James': '1970-08-15',\n",
    "# 'Sophie': '2001-02-14'}\n",
    "##########################################################################################"
   ]
  },
  {
   "cell_type": "code",
   "execution_count": null,
   "metadata": {
    "id": "E0kOjb8u2xg0"
   },
   "outputs": [],
   "source": [
    "################################## Your code Here #######################################\n",
    "#Hint  str.split('')\n",
    "\n",
    "\n",
    "\n",
    "\n",
    "# expected outcome\n",
    "#{'1970': 'James',\n",
    "# '1993': 'Jinnie',\n",
    "# '1994': 'Cora',\n",
    "# '1998': 'Hunter',\n",
    "# '2001': 'Sophie'}\n",
    "#########################################################################################"
   ]
  },
  {
   "cell_type": "markdown",
   "metadata": {
    "id": "ORZxmtKE2zul"
   },
   "source": [
    "<img src=\"https://i.pinimg.com/736x/2e/aa/7d/2eaa7d5021ca7c3c98bc93b98b9646fe.jpg\" align=\"left\" width=\"70\" height=\"70\" align=\"left\">\n",
    "\n",
    "\n",
    "> ### Task 3 - Apply a function to the dictionary \n",
    "> - *Q1*: what is the average quiz scores of jinnie, erin, and mark, respectively?\n",
    "> - *Q2*: In which quiz, did jinnie, eric and mark achieve the highest score, respectively?\n"
   ]
  },
  {
   "cell_type": "code",
   "execution_count": 8,
   "metadata": {
    "id": "a7g9x7A420E3"
   },
   "outputs": [
    {
     "name": "stdout",
     "output_type": "stream",
     "text": [
      "94.25\n"
     ]
    }
   ],
   "source": [
    "result = {'jinnie': {'quiz': [90.0,97.0,75.0,92.0]},\n",
    "          'erin':{'quiz' : [ 100.0, 92.0, 93.0, 67.0]},\n",
    "          'mark':{'quiz': [100.0, 91.0, 89.0, 97.0]}\n",
    "}\n",
    "\n",
    "\n",
    "# what is the average quiz scores of jinnie, erin, and mark, respectively?\n",
    "\n",
    "####################### Your code here #####################\n",
    "\n",
    "result['jinnie'] # we know that this function will take an input eg. {'quiz': [90.0, 97.0, 75.0, 92.0]}\n",
    "result['jinnie']['quiz'] # now we have a list that only saves the quiz score \n",
    "\n",
    "def mean_score(input_dic): \n",
    "    temp = input_dic['quiz'] #this will output a list = [] \n",
    "    import numpy as np \n",
    "    \n",
    "    return np.average(temp)\n",
    "\n",
    "\n",
    "###########################################################\n",
    "score = mean_score(result['mark'])\n",
    "print(score)"
   ]
  },
  {
   "cell_type": "code",
   "execution_count": 11,
   "metadata": {
    "id": "76DrtkPc23tS"
   },
   "outputs": [
    {
     "name": "stdout",
     "output_type": "stream",
     "text": [
      "Highest score in quiz  2\n"
     ]
    }
   ],
   "source": [
    "# In which quiz, did jinnie, erin and mark achieve the highest score, respectively?\n",
    "\n",
    "####################### Your code here ######################\n",
    "\n",
    "def where_highest(input_dic):\n",
    "    temp = input_dic['quiz'] #this will output a list = [] \n",
    "    import numpy as np \n",
    "    \n",
    "    return print('Highest score in quiz ', np.argmax(temp)+1)\n",
    "\n",
    "############################################################\n",
    "\n",
    "where_highest(result['jinnie'])"
   ]
  },
  {
   "cell_type": "markdown",
   "metadata": {},
   "source": [
    "### 1.4. String <a class=\"anchor\" id=\"string\"></a>\n",
    "> There are number of built-in string objects to implememnt higher-level operations with strings (e.g., parsing, joinining) \n",
    "\n",
    "|      Method  Type      |                                                                    Description                                                                    |\n",
    "|:----------------------|:-------------------------------------------------------------------------------------------------------------------------------------------------|\n",
    "| ```S.capitalize()```         | returns a string with the first character in the capital                                                                                          |\n",
    "| ```S.upper()```  ```S.lower()``` | ```.upper()``` method on a string converts all of the characters to uppercase,  whereas the ```.lower()``` method converts all of the characters to lowercase |\n",
    "| ```S.casefold()```           | removes all case distinctions present in a string                                                                                                 |\n",
    "| ```S.encode()```             | returns encoded version of the given string                                                                                                       |\n",
    "| ```S.find()```               | returns the index of first occurrence of the substring (if found). If not found, it returns -1.                                                   |\n",
    "| ```S.index()```              | returns the index of a substring inside the string (if found). If the substring is not found, it raises an exception.                             |\n",
    "| ```S.isalpha() ```           | returns True if all characters in the string are alphabets. If not, it returns False.                                                             |\n",
    "| ```S.isdigit()```            | returns True if all characters in a string are digits. If not, it returns False.                                                                  |\n",
    "| ```S.replace() ```           | returns a copy of the string in which the occurrences of old have been replaced with new value                                                    |\n",
    "|``` S.split() ```             | split a string into a list where each word is a list item.returns a copy of the string by removing the trailing characters specified as argument  |\n",
    "| ```S.rstrip()```             | returns a copy of the string by removing the trailing characters specified as argument                                                            |"
   ]
  },
  {
   "cell_type": "code",
   "execution_count": 13,
   "metadata": {},
   "outputs": [
    {
     "data": {
      "text/plain": [
       "'We can try all of this functions!'"
      ]
     },
     "execution_count": 13,
     "metadata": {},
     "output_type": "execute_result"
    }
   ],
   "source": [
    "## Let's explore!\n",
    "S = \"WE CAN TRY ALL OF THIS FUNCTIONS!\"\n",
    "\n",
    "S.lower().capitalize()"
   ]
  },
  {
   "cell_type": "markdown",
   "metadata": {},
   "source": [
    "> Individual elements in string can be accessed as in lists."
   ]
  },
  {
   "cell_type": "code",
   "execution_count": 16,
   "metadata": {},
   "outputs": [
    {
     "data": {
      "text/plain": [
       "'.'"
      ]
     },
     "execution_count": 16,
     "metadata": {},
     "output_type": "execute_result"
    }
   ],
   "source": [
    "string ='here is another example. more than 100 examples will be provided in this class.'\n",
    "string[0] # can you guess the output?\n",
    "string[-1] # can you guess the output?"
   ]
  },
  {
   "cell_type": "markdown",
   "metadata": {},
   "source": [
    "<img src=\"https://i.pinimg.com/736x/2e/aa/7d/2eaa7d5021ca7c3c98bc93b98b9646fe.jpg\" align=\"left\" width=\"70\" height=\"70\" align=\"left\">\n",
    "\n",
    "\n",
    "### Task 4 - String Methods\n",
    "> - *Q1*: Replace the word \"examples\" to \"pratice questions\" in the given string.  (S.replace())\n",
    "> - *Q2*: Capitalize the first letters in each sentence. (S.capitalize())\n",
    "> - *Q3*: Identify the index of the first time the alphabet 'i' appears in the given string. (S.find())\n"
   ]
  },
  {
   "cell_type": "code",
   "execution_count": 19,
   "metadata": {},
   "outputs": [
    {
     "data": {
      "text/plain": [
       "'here is another example. more than 10 practice questions will be provided in this class.'"
      ]
     },
     "execution_count": 19,
     "metadata": {},
     "output_type": "execute_result"
    }
   ],
   "source": [
    "####################### Your code here ######################\n",
    "# Q1. replace the word \"examples\" to \"pratice questions\" in the given string using S.replace()\n",
    "string = string.replace('examples', 'practice questions')\n",
    "string.replace('100', '10')\n",
    "############################################################"
   ]
  },
  {
   "cell_type": "code",
   "execution_count": 25,
   "metadata": {},
   "outputs": [
    {
     "data": {
      "text/plain": [
       "{' ',\n",
       " '.',\n",
       " '0',\n",
       " '1',\n",
       " 'a',\n",
       " 'b',\n",
       " 'c',\n",
       " 'd',\n",
       " 'e',\n",
       " 'h',\n",
       " 'i',\n",
       " 'l',\n",
       " 'm',\n",
       " 'n',\n",
       " 'o',\n",
       " 'p',\n",
       " 'q',\n",
       " 'r',\n",
       " 's',\n",
       " 't',\n",
       " 'u',\n",
       " 'v',\n",
       " 'w'}"
      ]
     },
     "execution_count": 25,
     "metadata": {},
     "output_type": "execute_result"
    }
   ],
   "source": [
    "####################### Your code here ######################\n",
    "# Q2. Identify the total number of unique alphbets in the given string. (S.isaplha())\n",
    "new_string = string.split('. ')\n",
    "new_string\n",
    "\n",
    "first_sentence = new_string[0]\n",
    "second_sentence= new_string[-1] # or you can do [1]\n",
    "\n",
    "first_sentence_letters = set(first_sentence)\n",
    "first_sentence_letters\n",
    "\n",
    "second_sentence_letters = set(second_sentence)\n",
    "second_sentence_letters\n",
    "############################################################"
   ]
  },
  {
   "cell_type": "code",
   "execution_count": 28,
   "metadata": {},
   "outputs": [
    {
     "data": {
      "text/plain": [
       "'i'"
      ]
     },
     "execution_count": 28,
     "metadata": {},
     "output_type": "execute_result"
    }
   ],
   "source": [
    "####################### Your code here ######################\n",
    "# Q3. Identify the index of the first time the alphabet 'i' appears in the given string. (S.find())\n",
    "string.find('i')\n",
    "string[5] # this is actually the 6th element \n",
    "############################################################"
   ]
  },
  {
   "cell_type": "markdown",
   "metadata": {},
   "source": [
    "## 2. Basic Python Statement <a class=\"anchor\" id=\"statement\"></a>"
   ]
  },
  {
   "cell_type": "markdown",
   "metadata": {},
   "source": [
    "> There are *three* types of loops and statements in Python, For loops, While loops, and if-else statements. \n",
    ">>```For loops```: Iterates over a sequence of elements in a list or a range.\\\n",
    ">>```While loops```: Repeat as long as a certain boolean condition satisfies.\\\n",
    ">>```If-else statement```: conditional statements that provide you with the decision making that is required when you want to execute code based on a particular condition.\n",
    "\n",
    "### 2.1. For Loops <a class=\"anchor\" id=\"for\"></a>\n",
    "    > for i in list: \n",
    "        {action}\n",
    "      "
   ]
  },
  {
   "cell_type": "code",
   "execution_count": 29,
   "metadata": {},
   "outputs": [
    {
     "name": "stdout",
     "output_type": "stream",
     "text": [
      "1\n",
      "2\n",
      "3\n",
      "4\n"
     ]
    }
   ],
   "source": [
    "list2 =[ 1,2,3,4] # we will work with this list\n",
    "\n",
    "for prime in list2:\n",
    "  print(prime)"
   ]
  },
  {
   "cell_type": "code",
   "execution_count": 30,
   "metadata": {},
   "outputs": [
    {
     "name": "stdout",
     "output_type": "stream",
     "text": [
      "odd number\n",
      "2\n",
      "odd number\n",
      "4\n"
     ]
    }
   ],
   "source": [
    "for prime in range(1,5): # range(1,5) = [1,5) 1, 2, 3, 4 \n",
    "  if (prime % 2) == 0: # % modulus # if this is true  # this is why the definition concerned \"boolean\"\n",
    "    print(prime)\n",
    "  else:\n",
    "    print('odd number')\n",
    "    \n"
   ]
  },
  {
   "cell_type": "markdown",
   "metadata": {},
   "source": [
    "> We can also write a for loop in one line ```[print(i) for i in list]```"
   ]
  },
  {
   "cell_type": "code",
   "execution_count": 31,
   "metadata": {},
   "outputs": [
    {
     "name": "stdout",
     "output_type": "stream",
     "text": [
      "1\n",
      "2\n",
      "3\n",
      "4\n",
      "1\n",
      "2\n",
      "3\n",
      "4\n"
     ]
    },
    {
     "data": {
      "text/plain": [
       "[None, None, None, None]"
      ]
     },
     "execution_count": 31,
     "metadata": {},
     "output_type": "execute_result"
    }
   ],
   "source": [
    "for prime in list2:\n",
    "    print(prime)\n",
    "    \n",
    "[print(prime) for prime in list2]"
   ]
  },
  {
   "cell_type": "markdown",
   "metadata": {},
   "source": [
    "### 2.2. While Loops <a class=\"anchor\" id=\"while\"></a>\n",
    "    > while i == {Condition}: \n",
    "        {action}"
   ]
  },
  {
   "cell_type": "code",
   "execution_count": 33,
   "metadata": {},
   "outputs": [
    {
     "name": "stdout",
     "output_type": "stream",
     "text": [
      "0\n",
      "1\n",
      "2\n",
      "3\n",
      "4\n",
      "5\n",
      "6\n",
      "7\n",
      "8\n",
      "9\n"
     ]
    }
   ],
   "source": [
    "# print 0,1,2,3,4\n",
    "count = 0\n",
    "while count < 10: \n",
    "  print(count)\n",
    "  count += 1 # this equals to count = count + 1\n",
    "    "
   ]
  },
  {
   "cell_type": "markdown",
   "metadata": {},
   "source": [
    "> You can also ```break``` or ```continue``` the while loop "
   ]
  },
  {
   "cell_type": "code",
   "execution_count": 34,
   "metadata": {},
   "outputs": [
    {
     "name": "stdout",
     "output_type": "stream",
     "text": [
      "0\n",
      "1\n",
      "2\n",
      "3\n",
      "4\n",
      "1\n",
      "3\n",
      "5\n",
      "7\n",
      "9\n"
     ]
    }
   ],
   "source": [
    "count = 0\n",
    "while True:\n",
    "  print(count)\n",
    "  count +=1\n",
    "  if count >= 5:\n",
    "    break \n",
    "\n",
    "# Prints out only odd numbers - 1,3,5,7,9\n",
    "for x in range(10):\n",
    "    # Check if x is even\n",
    "    if x % 2 == 0:\n",
    "        continue\n",
    "    print(x)\n"
   ]
  },
  {
   "cell_type": "markdown",
   "metadata": {},
   "source": [
    "> A simple element-wise operation with ```zip()``` or ```for-loop```"
   ]
  },
  {
   "cell_type": "code",
   "execution_count": 35,
   "metadata": {},
   "outputs": [],
   "source": [
    "odd_list = [1, 3, 5, 7, 9]\n",
    "even_list = [2, 4, 6, 8, 10]"
   ]
  },
  {
   "cell_type": "code",
   "execution_count": 36,
   "metadata": {},
   "outputs": [
    {
     "name": "stdout",
     "output_type": "stream",
     "text": [
      "element-wise addition: [1, 3, 5, 7, 9, 2, 4, 6, 8, 10]\n"
     ]
    }
   ],
   "source": [
    "add = odd_list + even_list # ? \n",
    "print('element-wise addition: ' + str(add))"
   ]
  },
  {
   "cell_type": "code",
   "execution_count": 42,
   "metadata": {},
   "outputs": [
    {
     "name": "stdout",
     "output_type": "stream",
     "text": [
      "element-wise addition using zip(): [-1, -1, -1, -1, -1]\n"
     ]
    }
   ],
   "source": [
    "add = [odd-even for odd, even in zip(odd_list, even_list)]\n",
    "print('element-wise addition using zip(): ' + str(add))"
   ]
  },
  {
   "cell_type": "code",
   "execution_count": null,
   "metadata": {},
   "outputs": [],
   "source": [
    "add = [odd_list[i]*even_list[i] for i in range(len(odd_list))]\n",
    "print('element-wise addition using a loop: ' + str(add))"
   ]
  },
  {
   "cell_type": "markdown",
   "metadata": {},
   "source": [
    "### 2.3. If/elif/else statement <a class=\"anchor\" id=\"if\"></a>\n",
    "    > if {Condition1}:\n",
    "        {action}\n",
    "      elif {Condition2}:\n",
    "        {action}\n",
    "      else:\n",
    "        {action}\n",
    "      "
   ]
  },
  {
   "cell_type": "code",
   "execution_count": 43,
   "metadata": {},
   "outputs": [
    {
     "name": "stdout",
     "output_type": "stream",
     "text": [
      "value too small\n",
      "value appropriate\n",
      "5\n",
      "7\n",
      "9\n"
     ]
    }
   ],
   "source": [
    "for i in odd_list: \n",
    "    if i <2:\n",
    "        print('value too small')\n",
    "    elif i==3:\n",
    "        print('value appropriate')\n",
    "    else:\n",
    "        print(i)\n",
    "    "
   ]
  },
  {
   "cell_type": "markdown",
   "metadata": {},
   "source": [
    "<img src=\"https://i.pinimg.com/736x/2e/aa/7d/2eaa7d5021ca7c3c98bc93b98b9646fe.jpg\" align=\"left\" width=\"70\" height=\"70\" align=\"left\">\n",
    "\n",
    "\n",
    "### Task 5 - Simple Calculation using for loops \n",
    "> - *Q1*: Conduct a element-wise subtraction ```even_list``` - ```odd_list```\n",
    "> - *Q2*: Translate character of alphabet into a simple number decipher! (HINT: ```chr()``` returns character from the number e.g. ```chr(65) ='A'```) \n",
    "> - *Q3*: defining a function called ```def encode``` that encodes a string into a list of number or digits\n",
    "\n"
   ]
  },
  {
   "cell_type": "code",
   "execution_count": 44,
   "metadata": {},
   "outputs": [
    {
     "name": "stdout",
     "output_type": "stream",
     "text": [
      "[1, 1, 1, 1, 1]\n"
     ]
    }
   ],
   "source": [
    "######################## Your Code Here ###########################\n",
    "#Q1 ANSWER \n",
    "\n",
    "even_list = [2,4,6,8,10]\n",
    "odd_list = [1,3,5,7,9]\n",
    "\n",
    "sub = [even - odd for (even, odd) in zip(even_list, odd_list)] \n",
    "print(sub)\n",
    "\n",
    "\n",
    "\n",
    "\n",
    "###################################################################"
   ]
  },
  {
   "cell_type": "code",
   "execution_count": 46,
   "metadata": {},
   "outputs": [
    {
     "data": {
      "text/plain": [
       "' '"
      ]
     },
     "execution_count": 46,
     "metadata": {},
     "output_type": "execute_result"
    }
   ],
   "source": [
    "encoded = [73, 32, 107, 110, 111, 119, 32, 105, 116, 32, 105, 115, 32, \n",
    "           104, 97, 114, 100, 32, 116, 111, 32, 99, 111, 109, 101, 32,\n",
    "           104, 101, 114, 101, 32, 101, 118, 101, 114, 121, 32, \n",
    "           115, 97, 116, 117, 114, 100, 97, 121, 46]\n",
    "\n",
    "def decode(encoded): # defining a function called \"decode\"\n",
    "    final = [] \n",
    "    ####### your code here ###############\n",
    "    #Q2 ANSWER \n",
    "    for number in encoded:\n",
    "        temp = chr\n",
    "    \n",
    "    \n",
    "    #######################################\n",
    "    return final \n",
    "\n",
    "output = decode(encoded)\n",
    "print(' '.join(output))"
   ]
  },
  {
   "cell_type": "code",
   "execution_count": null,
   "metadata": {},
   "outputs": [],
   "source": [
    "sentence = 'Life is either a daring adventure or nothing at all.'\n",
    "\n",
    "def encode(sentence): # defining a function called \"encode\"\n",
    "    final = [] \n",
    "    ####### your code here ###############\n",
    "    #Q3 ANSWER \n",
    "    for chr in sentence:\n",
    "    \n",
    "\n",
    "    \n",
    "    \n",
    "    #######################################\n",
    "    return final \n",
    "\n",
    "output = encode(sentence)\n",
    "output"
   ]
  }
 ],
 "metadata": {
  "colab": {
   "name": "week 1-intro to python - PART 1",
   "provenance": [],
   "toc_visible": true
  },
  "kernelspec": {
   "display_name": "Python 3 (ipykernel)",
   "language": "python",
   "name": "python3"
  },
  "language_info": {
   "codemirror_mode": {
    "name": "ipython",
    "version": 3
   },
   "file_extension": ".py",
   "mimetype": "text/x-python",
   "name": "python",
   "nbconvert_exporter": "python",
   "pygments_lexer": "ipython3",
   "version": "3.9.7"
  }
 },
 "nbformat": 4,
 "nbformat_minor": 1
}
